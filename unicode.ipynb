{
 "cells": [
  {
   "cell_type": "markdown",
   "metadata": {
    "deletable": true,
    "editable": true,
    "slideshow": {
     "slide_type": "slide"
    }
   },
   "source": [
    "# Unicode in Python\n",
    "## A Continuous Battle"
   ]
  },
  {
   "cell_type": "markdown",
   "metadata": {
    "deletable": true,
    "editable": true,
    "slideshow": {
     "slide_type": "slide"
    }
   },
   "source": [
    "**Conventions:**\n",
    "\n",
    "I'm going to say **\"bytes\"** or **\"byte string\"** to mean the Python 2 \"str\" type and the Python 3 \"bytes\" type.\n",
    "\n",
    "I'm going to say **\"unicode string\"** to mean the Python 2 \"unicode\" type and the Python 3 \"str\" type.\n",
    "\n",
    "*I really want to call them **text string** instead of **unicode string** to clarify their purpose, but I think that would confuse things at the moment.*\n",
    "\n",
    "I'm going to prefix my string literals with **b** or **u** to try to make it obvious which of the two I mean."
   ]
  },
  {
   "cell_type": "code",
   "execution_count": 160,
   "metadata": {
    "collapsed": false,
    "deletable": true,
    "editable": true,
    "slideshow": {
     "slide_type": "fragment"
    }
   },
   "outputs": [
    {
     "data": {
      "text/plain": [
       "u'some text'"
      ]
     },
     "execution_count": 160,
     "metadata": {},
     "output_type": "execute_result"
    }
   ],
   "source": [
    "b\"some bytes\"  # this is a byte string\n",
    "u\"some text\"   # this is a unicode string"
   ]
  },
  {
   "cell_type": "code",
   "execution_count": 161,
   "metadata": {
    "collapsed": false,
    "deletable": true,
    "editable": true,
    "slideshow": {
     "slide_type": "slide"
    }
   },
   "outputs": [
    {
     "name": "stdout",
     "output_type": "stream",
     "text": [
      "<type 'str'>\n",
      "'\\xc2\\xa9 2017 OKCPython'\n",
      "© 2017 OKCPython\n"
     ]
    }
   ],
   "source": [
    "from __future__ import print_function\n",
    "byte_string = b\"© 2017 OKCPython\"  # utf-8 encoded byte string\n",
    "print(type(byte_string))\n",
    "print(repr(byte_string))\n",
    "print(byte_string)"
   ]
  },
  {
   "cell_type": "code",
   "execution_count": 119,
   "metadata": {
    "collapsed": false,
    "deletable": true,
    "editable": true,
    "slideshow": {
     "slide_type": "slide"
    }
   },
   "outputs": [
    {
     "ename": "UnicodeDecodeError",
     "evalue": "'ascii' codec can't decode byte 0xc2 in position 0: ordinal not in range(128)",
     "output_type": "error",
     "traceback": [
      "\u001b[0;31m---------------------------------------------------------------------------\u001b[0m",
      "\u001b[0;31mUnicodeDecodeError\u001b[0m                        Traceback (most recent call last)",
      "\u001b[0;32m<ipython-input-119-24724767faf1>\u001b[0m in \u001b[0;36m<module>\u001b[0;34m()\u001b[0m\n\u001b[0;32m----> 1\u001b[0;31m \u001b[0municode\u001b[0m\u001b[0;34m(\u001b[0m\u001b[0mbyte_string\u001b[0m\u001b[0;34m)\u001b[0m\u001b[0;34m\u001b[0m\u001b[0m\n\u001b[0m",
      "\u001b[0;31mUnicodeDecodeError\u001b[0m: 'ascii' codec can't decode byte 0xc2 in position 0: ordinal not in range(128)"
     ]
    }
   ],
   "source": [
    "unicode(byte_string)"
   ]
  },
  {
   "cell_type": "markdown",
   "metadata": {
    "collapsed": true,
    "deletable": true,
    "editable": true,
    "slideshow": {
     "slide_type": "slide"
    }
   },
   "source": [
    "# What's the correct way to convert the byte string to a unicode string?"
   ]
  },
  {
   "cell_type": "code",
   "execution_count": 120,
   "metadata": {
    "collapsed": false,
    "deletable": true,
    "editable": true,
    "slideshow": {
     "slide_type": "slide"
    }
   },
   "outputs": [
    {
     "ename": "UnicodeDecodeError",
     "evalue": "'ascii' codec can't decode byte 0xc2 in position 0: ordinal not in range(128)",
     "output_type": "error",
     "traceback": [
      "\u001b[0;31m---------------------------------------------------------------------------\u001b[0m",
      "\u001b[0;31mUnicodeDecodeError\u001b[0m                        Traceback (most recent call last)",
      "\u001b[0;32m<ipython-input-120-5bb71c4419e5>\u001b[0m in \u001b[0;36m<module>\u001b[0;34m()\u001b[0m\n\u001b[0;32m----> 1\u001b[0;31m \u001b[0mbyte_string\u001b[0m\u001b[0;34m.\u001b[0m\u001b[0mencode\u001b[0m\u001b[0;34m(\u001b[0m\u001b[0;34mu\"latin-1\"\u001b[0m\u001b[0;34m)\u001b[0m\u001b[0;34m\u001b[0m\u001b[0m\n\u001b[0m",
      "\u001b[0;31mUnicodeDecodeError\u001b[0m: 'ascii' codec can't decode byte 0xc2 in position 0: ordinal not in range(128)"
     ]
    }
   ],
   "source": [
    "byte_string.encode(u\"latin-1\")"
   ]
  },
  {
   "cell_type": "code",
   "execution_count": 121,
   "metadata": {
    "collapsed": false,
    "deletable": true,
    "editable": true,
    "slideshow": {
     "slide_type": "slide"
    }
   },
   "outputs": [
    {
     "ename": "UnicodeDecodeError",
     "evalue": "'ascii' codec can't decode byte 0xc2 in position 0: ordinal not in range(128)",
     "output_type": "error",
     "traceback": [
      "\u001b[0;31m---------------------------------------------------------------------------\u001b[0m",
      "\u001b[0;31mUnicodeDecodeError\u001b[0m                        Traceback (most recent call last)",
      "\u001b[0;32m<ipython-input-121-395dd0647350>\u001b[0m in \u001b[0;36m<module>\u001b[0;34m()\u001b[0m\n\u001b[0;32m----> 1\u001b[0;31m \u001b[0mbyte_string\u001b[0m\u001b[0;34m.\u001b[0m\u001b[0mencode\u001b[0m\u001b[0;34m(\u001b[0m\u001b[0;34mu\"utf-8\"\u001b[0m\u001b[0;34m)\u001b[0m\u001b[0;34m\u001b[0m\u001b[0m\n\u001b[0m",
      "\u001b[0;31mUnicodeDecodeError\u001b[0m: 'ascii' codec can't decode byte 0xc2 in position 0: ordinal not in range(128)"
     ]
    }
   ],
   "source": [
    "byte_string.encode(u\"utf-8\")"
   ]
  },
  {
   "cell_type": "code",
   "execution_count": 122,
   "metadata": {
    "collapsed": false,
    "deletable": true,
    "editable": true,
    "slideshow": {
     "slide_type": "slide"
    }
   },
   "outputs": [
    {
     "ename": "UnicodeDecodeError",
     "evalue": "'ascii' codec can't decode byte 0xc2 in position 0: ordinal not in range(128)",
     "output_type": "error",
     "traceback": [
      "\u001b[0;31m---------------------------------------------------------------------------\u001b[0m",
      "\u001b[0;31mUnicodeDecodeError\u001b[0m                        Traceback (most recent call last)",
      "\u001b[0;32m<ipython-input-122-4a469d710938>\u001b[0m in \u001b[0;36m<module>\u001b[0;34m()\u001b[0m\n\u001b[0;32m----> 1\u001b[0;31m \u001b[0mbyte_string\u001b[0m\u001b[0;34m.\u001b[0m\u001b[0mdecode\u001b[0m\u001b[0;34m(\u001b[0m\u001b[0;34mu\"ascii\"\u001b[0m\u001b[0;34m)\u001b[0m\u001b[0;34m\u001b[0m\u001b[0m\n\u001b[0m",
      "\u001b[0;31mUnicodeDecodeError\u001b[0m: 'ascii' codec can't decode byte 0xc2 in position 0: ordinal not in range(128)"
     ]
    }
   ],
   "source": [
    "byte_string.decode(u\"ascii\")"
   ]
  },
  {
   "cell_type": "code",
   "execution_count": 123,
   "metadata": {
    "collapsed": false,
    "deletable": true,
    "editable": true,
    "slideshow": {
     "slide_type": "slide"
    }
   },
   "outputs": [
    {
     "data": {
      "text/plain": [
       "u'\\xc2\\xa9 2017 OKCPython'"
      ]
     },
     "execution_count": 123,
     "metadata": {},
     "output_type": "execute_result"
    }
   ],
   "source": [
    "byte_string.decode(u\"latin-1\")"
   ]
  },
  {
   "cell_type": "code",
   "execution_count": 124,
   "metadata": {
    "collapsed": false,
    "deletable": true,
    "editable": true,
    "slideshow": {
     "slide_type": "fragment"
    }
   },
   "outputs": [
    {
     "name": "stdout",
     "output_type": "stream",
     "text": [
      "Â© 2017 OKCPython\n"
     ]
    }
   ],
   "source": [
    "print(byte_string.decode(u\"latin-1\"))"
   ]
  },
  {
   "cell_type": "code",
   "execution_count": 125,
   "metadata": {
    "collapsed": false,
    "deletable": true,
    "editable": true,
    "slideshow": {
     "slide_type": "slide"
    }
   },
   "outputs": [
    {
     "data": {
      "text/plain": [
       "u'\\xa9 2017 OKCPython'"
      ]
     },
     "execution_count": 125,
     "metadata": {},
     "output_type": "execute_result"
    }
   ],
   "source": [
    "byte_string.decode(u\"utf-8\")"
   ]
  },
  {
   "cell_type": "code",
   "execution_count": 126,
   "metadata": {
    "collapsed": false,
    "deletable": true,
    "editable": true,
    "slideshow": {
     "slide_type": "fragment"
    }
   },
   "outputs": [
    {
     "name": "stdout",
     "output_type": "stream",
     "text": [
      "© 2017 OKCPython\n"
     ]
    }
   ],
   "source": [
    "unicode_string = byte_string.decode(u\"utf-8\")\n",
    "print(unicode_string)"
   ]
  },
  {
   "cell_type": "markdown",
   "metadata": {
    "collapsed": true,
    "deletable": true,
    "editable": true,
    "slideshow": {
     "slide_type": "slide"
    }
   },
   "source": [
    "# What does it take to get back to a byte string?"
   ]
  },
  {
   "cell_type": "code",
   "execution_count": 127,
   "metadata": {
    "collapsed": false,
    "deletable": true,
    "editable": true,
    "slideshow": {
     "slide_type": "slide"
    }
   },
   "outputs": [
    {
     "ename": "UnicodeEncodeError",
     "evalue": "'ascii' codec can't encode character u'\\xa9' in position 0: ordinal not in range(128)",
     "output_type": "error",
     "traceback": [
      "\u001b[0;31m---------------------------------------------------------------------------\u001b[0m",
      "\u001b[0;31mUnicodeEncodeError\u001b[0m                        Traceback (most recent call last)",
      "\u001b[0;32m<ipython-input-127-52d6c2dc720d>\u001b[0m in \u001b[0;36m<module>\u001b[0;34m()\u001b[0m\n\u001b[0;32m----> 1\u001b[0;31m \u001b[0;32mprint\u001b[0m\u001b[0;34m(\u001b[0m\u001b[0mstr\u001b[0m\u001b[0;34m(\u001b[0m\u001b[0municode_string\u001b[0m\u001b[0;34m)\u001b[0m\u001b[0;34m)\u001b[0m\u001b[0;34m\u001b[0m\u001b[0m\n\u001b[0m",
      "\u001b[0;31mUnicodeEncodeError\u001b[0m: 'ascii' codec can't encode character u'\\xa9' in position 0: ordinal not in range(128)"
     ]
    }
   ],
   "source": [
    "print(str(unicode_string))"
   ]
  },
  {
   "cell_type": "code",
   "execution_count": 128,
   "metadata": {
    "collapsed": false,
    "deletable": true,
    "editable": true,
    "slideshow": {
     "slide_type": "slide"
    }
   },
   "outputs": [
    {
     "ename": "UnicodeEncodeError",
     "evalue": "'ascii' codec can't encode character u'\\xa9' in position 0: ordinal not in range(128)",
     "output_type": "error",
     "traceback": [
      "\u001b[0;31m---------------------------------------------------------------------------\u001b[0m",
      "\u001b[0;31mUnicodeEncodeError\u001b[0m                        Traceback (most recent call last)",
      "\u001b[0;32m<ipython-input-128-9f356c19ce78>\u001b[0m in \u001b[0;36m<module>\u001b[0;34m()\u001b[0m\n\u001b[0;32m----> 1\u001b[0;31m \u001b[0;32mprint\u001b[0m\u001b[0;34m(\u001b[0m\u001b[0municode_string\u001b[0m\u001b[0;34m.\u001b[0m\u001b[0mencode\u001b[0m\u001b[0;34m(\u001b[0m\u001b[0;34mu\"ascii\"\u001b[0m\u001b[0;34m)\u001b[0m\u001b[0;34m)\u001b[0m\u001b[0;34m\u001b[0m\u001b[0m\n\u001b[0m",
      "\u001b[0;31mUnicodeEncodeError\u001b[0m: 'ascii' codec can't encode character u'\\xa9' in position 0: ordinal not in range(128)"
     ]
    }
   ],
   "source": [
    "print(unicode_string.encode(u\"ascii\"))"
   ]
  },
  {
   "cell_type": "code",
   "execution_count": 129,
   "metadata": {
    "collapsed": false,
    "deletable": true,
    "editable": true,
    "slideshow": {
     "slide_type": "slide"
    }
   },
   "outputs": [
    {
     "name": "stdout",
     "output_type": "stream",
     "text": [
      "© 2017 OKCPython\n"
     ]
    }
   ],
   "source": [
    "print(unicode_string.encode(u\"utf-8\"))"
   ]
  },
  {
   "cell_type": "code",
   "execution_count": 130,
   "metadata": {
    "collapsed": false,
    "deletable": true,
    "editable": true,
    "slideshow": {
     "slide_type": "slide"
    }
   },
   "outputs": [
    {
     "ename": "UnicodeEncodeError",
     "evalue": "'ascii' codec can't encode character u'\\xa9' in position 0: ordinal not in range(128)",
     "output_type": "error",
     "traceback": [
      "\u001b[0;31m---------------------------------------------------------------------------\u001b[0m",
      "\u001b[0;31mUnicodeEncodeError\u001b[0m                        Traceback (most recent call last)",
      "\u001b[0;32m<ipython-input-130-4ab5421810bf>\u001b[0m in \u001b[0;36m<module>\u001b[0;34m()\u001b[0m\n\u001b[0;32m----> 1\u001b[0;31m \u001b[0;32mprint\u001b[0m\u001b[0;34m(\u001b[0m\u001b[0municode_string\u001b[0m\u001b[0;34m.\u001b[0m\u001b[0mdecode\u001b[0m\u001b[0;34m(\u001b[0m\u001b[0;34mu\"utf-8\"\u001b[0m\u001b[0;34m)\u001b[0m\u001b[0;34m)\u001b[0m\u001b[0;34m\u001b[0m\u001b[0m\n\u001b[0m",
      "\u001b[0;32m/home/tnance/.virtualenvs/ipython/lib/python2.7/encodings/utf_8.pyc\u001b[0m in \u001b[0;36mdecode\u001b[0;34m(input, errors)\u001b[0m\n\u001b[1;32m     14\u001b[0m \u001b[0;34m\u001b[0m\u001b[0m\n\u001b[1;32m     15\u001b[0m \u001b[0;32mdef\u001b[0m \u001b[0mdecode\u001b[0m\u001b[0;34m(\u001b[0m\u001b[0minput\u001b[0m\u001b[0;34m,\u001b[0m \u001b[0merrors\u001b[0m\u001b[0;34m=\u001b[0m\u001b[0;34m'strict'\u001b[0m\u001b[0;34m)\u001b[0m\u001b[0;34m:\u001b[0m\u001b[0;34m\u001b[0m\u001b[0m\n\u001b[0;32m---> 16\u001b[0;31m     \u001b[0;32mreturn\u001b[0m \u001b[0mcodecs\u001b[0m\u001b[0;34m.\u001b[0m\u001b[0mutf_8_decode\u001b[0m\u001b[0;34m(\u001b[0m\u001b[0minput\u001b[0m\u001b[0;34m,\u001b[0m \u001b[0merrors\u001b[0m\u001b[0;34m,\u001b[0m \u001b[0mTrue\u001b[0m\u001b[0;34m)\u001b[0m\u001b[0;34m\u001b[0m\u001b[0m\n\u001b[0m\u001b[1;32m     17\u001b[0m \u001b[0;34m\u001b[0m\u001b[0m\n\u001b[1;32m     18\u001b[0m \u001b[0;32mclass\u001b[0m \u001b[0mIncrementalEncoder\u001b[0m\u001b[0;34m(\u001b[0m\u001b[0mcodecs\u001b[0m\u001b[0;34m.\u001b[0m\u001b[0mIncrementalEncoder\u001b[0m\u001b[0;34m)\u001b[0m\u001b[0;34m:\u001b[0m\u001b[0;34m\u001b[0m\u001b[0m\n",
      "\u001b[0;31mUnicodeEncodeError\u001b[0m: 'ascii' codec can't encode character u'\\xa9' in position 0: ordinal not in range(128)"
     ]
    }
   ],
   "source": [
    "print(unicode_string.decode(u\"utf-8\"))"
   ]
  },
  {
   "cell_type": "code",
   "execution_count": 131,
   "metadata": {
    "collapsed": false,
    "deletable": true,
    "editable": true,
    "slideshow": {
     "slide_type": "slide"
    }
   },
   "outputs": [
    {
     "ename": "UnicodeEncodeError",
     "evalue": "'ascii' codec can't encode character u'\\xa9' in position 0: ordinal not in range(128)",
     "output_type": "error",
     "traceback": [
      "\u001b[0;31m---------------------------------------------------------------------------\u001b[0m",
      "\u001b[0;31mUnicodeEncodeError\u001b[0m                        Traceback (most recent call last)",
      "\u001b[0;32m<ipython-input-131-9f7e420ad1f2>\u001b[0m in \u001b[0;36m<module>\u001b[0;34m()\u001b[0m\n\u001b[0;32m----> 1\u001b[0;31m \u001b[0;32mprint\u001b[0m\u001b[0;34m(\u001b[0m\u001b[0municode_string\u001b[0m\u001b[0;34m.\u001b[0m\u001b[0mdecode\u001b[0m\u001b[0;34m(\u001b[0m\u001b[0;34mu\"ascii\"\u001b[0m\u001b[0;34m)\u001b[0m\u001b[0;34m)\u001b[0m\u001b[0;34m\u001b[0m\u001b[0m\n\u001b[0m",
      "\u001b[0;31mUnicodeEncodeError\u001b[0m: 'ascii' codec can't encode character u'\\xa9' in position 0: ordinal not in range(128)"
     ]
    }
   ],
   "source": [
    "print(unicode_string.decode(u\"ascii\"))"
   ]
  },
  {
   "cell_type": "markdown",
   "metadata": {
    "deletable": true,
    "editable": true,
    "slideshow": {
     "slide_type": "slide"
    }
   },
   "source": [
    "# How can you make sense of all of these options?"
   ]
  },
  {
   "cell_type": "markdown",
   "metadata": {
    "deletable": true,
    "editable": true,
    "slideshow": {
     "slide_type": "slide"
    }
   },
   "source": [
    "# How I wrap my brain around it\n",
    "\n",
    "`text.encode(...)` always returns a **byte string**, whether `text` is a byte string or a unicode string.\n",
    "\n",
    "`text.decode(...)` always returns a **unicode string**, whether `text` is a byte string or a unicode string."
   ]
  },
  {
   "cell_type": "markdown",
   "metadata": {
    "deletable": true,
    "editable": true,
    "slideshow": {
     "slide_type": "fragment"
    }
   },
   "source": [
    "So what I try to remember is that you **encode** text as **bytes** using a particular **encoding**.\n",
    "\n",
    "And then I derive from that the idea that you **decode** bytes into **text** by knowing the **encoding** used to serialize the text.\n"
   ]
  },
  {
   "cell_type": "markdown",
   "metadata": {
    "deletable": true,
    "editable": true,
    "slideshow": {
     "slide_type": "slide"
    }
   },
   "source": [
    "## To convert a byte string to a unicode string, use:"
   ]
  },
  {
   "cell_type": "code",
   "execution_count": 132,
   "metadata": {
    "collapsed": false,
    "deletable": true,
    "editable": true,
    "slideshow": {
     "slide_type": "fragment"
    }
   },
   "outputs": [
    {
     "data": {
      "text/plain": [
       "u'\\xa9 2017 OKCPython'"
      ]
     },
     "execution_count": 132,
     "metadata": {},
     "output_type": "execute_result"
    }
   ],
   "source": [
    "byte_string.decode(u\"utf-8\")"
   ]
  },
  {
   "cell_type": "markdown",
   "metadata": {
    "deletable": true,
    "editable": true,
    "slideshow": {
     "slide_type": "fragment"
    }
   },
   "source": [
    "## To convert a unicode string to a byte string, use:"
   ]
  },
  {
   "cell_type": "code",
   "execution_count": 133,
   "metadata": {
    "collapsed": false,
    "deletable": true,
    "editable": true,
    "slideshow": {
     "slide_type": "fragment"
    }
   },
   "outputs": [
    {
     "data": {
      "text/plain": [
       "'\\xc2\\xa9 2017 OKCPython'"
      ]
     },
     "execution_count": 133,
     "metadata": {},
     "output_type": "execute_result"
    }
   ],
   "source": [
    "unicode_string.encode(u\"utf-8\")"
   ]
  },
  {
   "cell_type": "markdown",
   "metadata": {
    "slideshow": {
     "slide_type": "slide"
    }
   },
   "source": [
    "# Is a unicode string the same thing as utf-8?\n",
    "\n",
    "No!\n",
    "\n",
    "UTF-8 is a way to encode text as bytes. UTF-8 would be a byte string that is the serialized form of a unicode string.\n",
    "\n",
    "Also, UTF-8 isn't the only way to encode Unicode strings."
   ]
  },
  {
   "cell_type": "code",
   "execution_count": 164,
   "metadata": {
    "collapsed": false,
    "slideshow": {
     "slide_type": "slide"
    }
   },
   "outputs": [
    {
     "name": "stdout",
     "output_type": "stream",
     "text": [
      "len unicode: 18\n",
      "len utf-8: 21\n",
      "len utf-16: 38\n",
      "18 * 2 =  36\n",
      "\"\\xff\\xfe\\xa9\\x00 \\x002\\x000\\x001\\x007\\x00 \\x00O\\x00K\\x00C\\x00P\\x00y\\x00t\\x00h\\x00o\\x00n\\x00 \\x00\\x13'\"\n",
      "'\\xff\\xfe'\n"
     ]
    },
    {
     "ename": "AssertionError",
     "evalue": "",
     "output_type": "error",
     "traceback": [
      "\u001b[0;31m---------------------------------------------------------------------------\u001b[0m",
      "\u001b[0;31mAssertionError\u001b[0m                            Traceback (most recent call last)",
      "\u001b[0;32m<ipython-input-164-9d1ef40961c5>\u001b[0m in \u001b[0;36m<module>\u001b[0;34m()\u001b[0m\n\u001b[1;32m      9\u001b[0m \u001b[0;32mprint\u001b[0m\u001b[0;34m(\u001b[0m\u001b[0mrepr\u001b[0m\u001b[0;34m(\u001b[0m\u001b[0mbytes_data_utf16\u001b[0m\u001b[0;34m)\u001b[0m\u001b[0;34m)\u001b[0m\u001b[0;34m\u001b[0m\u001b[0m\n\u001b[1;32m     10\u001b[0m \u001b[0;32mprint\u001b[0m\u001b[0;34m(\u001b[0m\u001b[0mrepr\u001b[0m\u001b[0;34m(\u001b[0m\u001b[0;34mu\"\"\u001b[0m\u001b[0;34m.\u001b[0m\u001b[0mencode\u001b[0m\u001b[0;34m(\u001b[0m\u001b[0;34mu\"utf-16\"\u001b[0m\u001b[0;34m)\u001b[0m\u001b[0;34m)\u001b[0m\u001b[0;34m)\u001b[0m\u001b[0;34m\u001b[0m\u001b[0m\n\u001b[0;32m---> 11\u001b[0;31m \u001b[0;32massert\u001b[0m \u001b[0mbytes_data_utf8\u001b[0m \u001b[0;34m==\u001b[0m \u001b[0mbytes_data_utf16\u001b[0m\u001b[0;34m\u001b[0m\u001b[0m\n\u001b[0m",
      "\u001b[0;31mAssertionError\u001b[0m: "
     ]
    }
   ],
   "source": [
    "unicode_data = u\"© 2017 OKCPython ✓\"\n",
    "bytes_data_utf8 = unicode_data.encode(u\"utf-8\")\n",
    "bytes_data_utf16 = unicode_data.encode(u\"utf-16\")\n",
    "\n",
    "print(\"len unicode:\", len(unicode_data))\n",
    "print(\"len utf-8:\", len(bytes_data_utf8))\n",
    "print(\"len utf-16:\", len(bytes_data_utf16))\n",
    "print(\"18 * 2 = \", 18 * 2)\n",
    "print(repr(bytes_data_utf16))\n",
    "print(repr(u\"\".encode(u\"utf-16\")))\n",
    "assert bytes_data_utf8 != bytes_data_utf16\n"
   ]
  },
  {
   "cell_type": "code",
   "execution_count": 165,
   "metadata": {
    "collapsed": false,
    "slideshow": {
     "slide_type": "slide"
    }
   },
   "outputs": [
    {
     "name": "stdout",
     "output_type": "stream",
     "text": [
      "len unicode: 14\n",
      "len utf-8: 14\n",
      "len latin-1: 14\n",
      "len windows-1250: 14\n",
      "u'2017 OKCPython'\n",
      "'2017 OKCPython'\n",
      "'2017 OKCPython'\n",
      "'2017 OKCPython'\n"
     ]
    }
   ],
   "source": [
    "unicode_data = u\"2017 OKCPython\"\n",
    "bytes_data_utf8 = unicode_data.encode(u\"utf-8\")\n",
    "bytes_data_latin1 = unicode_data.encode(u\"latin-1\")\n",
    "bytes_data_windows1250 = unicode_data.encode(u\"windows-1250\")\n",
    "\n",
    "print(\"len unicode:\", len(unicode_data))\n",
    "print(\"len utf-8:\", len(bytes_data_utf8))\n",
    "print(\"len latin-1:\", len(bytes_data_latin1))\n",
    "print(\"len windows-1250:\", len(bytes_data_windows1250))\n",
    "print(repr(unicode_data))\n",
    "print(repr(bytes_data_utf8))\n",
    "print(repr(bytes_data_latin1))\n",
    "print(repr(bytes_data_windows1250))\n",
    "\n",
    "assert unicode_data == bytes_data_utf8 == bytes_data_latin1 == bytes_data_windows1250\n"
   ]
  },
  {
   "cell_type": "code",
   "execution_count": 193,
   "metadata": {
    "collapsed": false,
    "deletable": true,
    "editable": true,
    "slideshow": {
     "slide_type": "slide"
    }
   },
   "outputs": [
    {
     "name": "stdout",
     "output_type": "stream",
     "text": [
      "len unicode: 18\n",
      "len utf-8: 20\n",
      "len latin-1: 18\n",
      "len windows-1250: 18\n",
      "u'\\xa9 2017 OKCPython \\xd4'\n",
      "'\\xc2\\xa9 2017 OKCPython \\xc3\\x94'\n",
      "'\\xa9 2017 OKCPython \\xd4'\n",
      "'\\xa9 2017 OKCPython \\xd4'\n"
     ]
    }
   ],
   "source": [
    "unicode_data = u\"© 2017 OKCPython Ô\"\n",
    "bytes_data_utf8 = unicode_data.encode(u\"utf-8\")\n",
    "bytes_data_latin1 = unicode_data.encode(u\"latin-1\")\n",
    "bytes_data_windows1250 = unicode_data.encode(u\"windows-1250\")\n",
    "\n",
    "print(\"len unicode:\", len(unicode_data))\n",
    "print(\"len utf-8:\", len(bytes_data_utf8))\n",
    "print(\"len latin-1:\", len(bytes_data_latin1))\n",
    "print(\"len windows-1250:\", len(bytes_data_windows1250))\n",
    "print(repr(unicode_data))\n",
    "print(repr(bytes_data_utf8))\n",
    "print(repr(bytes_data_latin1))\n",
    "print(repr(bytes_data_windows1250))\n",
    "\n",
    "assert bytes_data_latin1 == bytes_data_windows1250\n"
   ]
  },
  {
   "cell_type": "code",
   "execution_count": 198,
   "metadata": {
    "collapsed": false,
    "slideshow": {
     "slide_type": "slide"
    }
   },
   "outputs": [
    {
     "name": "stdout",
     "output_type": "stream",
     "text": [
      "len unicode: 13\n",
      "len utf-8: 15\n",
      "len latin-1: 13\n",
      "u'B\\xf5rgen G\\xf6rgon'\n",
      "'B\\xc3\\xb5rgen G\\xc3\\xb6rgon'\n",
      "'B\\xf5rgen G\\xf6rgon'\n"
     ]
    },
    {
     "ename": "UnicodeEncodeError",
     "evalue": "'charmap' codec can't encode character u'\\xf5' in position 1: character maps to <undefined>",
     "output_type": "error",
     "traceback": [
      "\u001b[0;31m---------------------------------------------------------------------------\u001b[0m",
      "\u001b[0;31mUnicodeEncodeError\u001b[0m                        Traceback (most recent call last)",
      "\u001b[0;32m<ipython-input-198-532fcca8f87b>\u001b[0m in \u001b[0;36m<module>\u001b[0;34m()\u001b[0m\n\u001b[1;32m     11\u001b[0m \u001b[0;34m\u001b[0m\u001b[0m\n\u001b[1;32m     12\u001b[0m \u001b[0;31m# Cannot be encoded using windows-1250 encoding\u001b[0m\u001b[0;34m\u001b[0m\u001b[0;34m\u001b[0m\u001b[0m\n\u001b[0;32m---> 13\u001b[0;31m \u001b[0mbytes_data_windows1250\u001b[0m \u001b[0;34m=\u001b[0m \u001b[0municode_data\u001b[0m\u001b[0;34m.\u001b[0m\u001b[0mencode\u001b[0m\u001b[0;34m(\u001b[0m\u001b[0;34mu\"windows-1250\"\u001b[0m\u001b[0;34m)\u001b[0m\u001b[0;34m\u001b[0m\u001b[0m\n\u001b[0m",
      "\u001b[0;32m/home/tnance/.virtualenvs/ipython/lib/python2.7/encodings/cp1250.pyc\u001b[0m in \u001b[0;36mencode\u001b[0;34m(self, input, errors)\u001b[0m\n\u001b[1;32m     10\u001b[0m \u001b[0;34m\u001b[0m\u001b[0m\n\u001b[1;32m     11\u001b[0m     \u001b[0;32mdef\u001b[0m \u001b[0mencode\u001b[0m\u001b[0;34m(\u001b[0m\u001b[0mself\u001b[0m\u001b[0;34m,\u001b[0m\u001b[0minput\u001b[0m\u001b[0;34m,\u001b[0m\u001b[0merrors\u001b[0m\u001b[0;34m=\u001b[0m\u001b[0;34m'strict'\u001b[0m\u001b[0;34m)\u001b[0m\u001b[0;34m:\u001b[0m\u001b[0;34m\u001b[0m\u001b[0m\n\u001b[0;32m---> 12\u001b[0;31m         \u001b[0;32mreturn\u001b[0m \u001b[0mcodecs\u001b[0m\u001b[0;34m.\u001b[0m\u001b[0mcharmap_encode\u001b[0m\u001b[0;34m(\u001b[0m\u001b[0minput\u001b[0m\u001b[0;34m,\u001b[0m\u001b[0merrors\u001b[0m\u001b[0;34m,\u001b[0m\u001b[0mencoding_table\u001b[0m\u001b[0;34m)\u001b[0m\u001b[0;34m\u001b[0m\u001b[0m\n\u001b[0m\u001b[1;32m     13\u001b[0m \u001b[0;34m\u001b[0m\u001b[0m\n\u001b[1;32m     14\u001b[0m     \u001b[0;32mdef\u001b[0m \u001b[0mdecode\u001b[0m\u001b[0;34m(\u001b[0m\u001b[0mself\u001b[0m\u001b[0;34m,\u001b[0m\u001b[0minput\u001b[0m\u001b[0;34m,\u001b[0m\u001b[0merrors\u001b[0m\u001b[0;34m=\u001b[0m\u001b[0;34m'strict'\u001b[0m\u001b[0;34m)\u001b[0m\u001b[0;34m:\u001b[0m\u001b[0;34m\u001b[0m\u001b[0m\n",
      "\u001b[0;31mUnicodeEncodeError\u001b[0m: 'charmap' codec can't encode character u'\\xf5' in position 1: character maps to <undefined>"
     ]
    }
   ],
   "source": [
    "unicode_data = u\"Bõrgen Görgon\"\n",
    "bytes_data_utf8 = unicode_data.encode(u\"utf-8\")\n",
    "bytes_data_latin1 = unicode_data.encode(u\"latin-1\")\n",
    "\n",
    "print(\"len unicode:\", len(unicode_data))\n",
    "print(\"len utf-8:\", len(bytes_data_utf8))\n",
    "print(\"len latin-1:\", len(bytes_data_latin1))\n",
    "print(repr(unicode_data))\n",
    "print(repr(bytes_data_utf8))\n",
    "print(repr(bytes_data_latin1))\n",
    "\n",
    "# Cannot be encoded using windows-1250 encoding\n",
    "bytes_data_windows1250 = unicode_data.encode(u\"windows-1250\")"
   ]
  },
  {
   "cell_type": "code",
   "execution_count": 202,
   "metadata": {
    "collapsed": false,
    "slideshow": {
     "slide_type": "slide"
    }
   },
   "outputs": [
    {
     "name": "stdout",
     "output_type": "stream",
     "text": [
      "len unicode: 13\n",
      "len utf-8: 15\n",
      "len windows-1250: 13\n",
      "u'B\\u0151rgen G\\xf6rgon'\n",
      "'B\\xc5\\x91rgen G\\xc3\\xb6rgon'\n",
      "'B\\xf5rgen G\\xf6rgon'\n"
     ]
    },
    {
     "ename": "UnicodeEncodeError",
     "evalue": "'latin-1' codec can't encode character u'\\u0151' in position 1: ordinal not in range(256)",
     "output_type": "error",
     "traceback": [
      "\u001b[0;31m---------------------------------------------------------------------------\u001b[0m",
      "\u001b[0;31mUnicodeEncodeError\u001b[0m                        Traceback (most recent call last)",
      "\u001b[0;32m<ipython-input-202-67fe54c93ada>\u001b[0m in \u001b[0;36m<module>\u001b[0;34m()\u001b[0m\n\u001b[1;32m     11\u001b[0m \u001b[0;34m\u001b[0m\u001b[0m\n\u001b[1;32m     12\u001b[0m \u001b[0;31m# Cannot be encoded using latin-1 encoding\u001b[0m\u001b[0;34m\u001b[0m\u001b[0;34m\u001b[0m\u001b[0m\n\u001b[0;32m---> 13\u001b[0;31m \u001b[0mbytes_data_latin1\u001b[0m \u001b[0;34m=\u001b[0m \u001b[0municode_data\u001b[0m\u001b[0;34m.\u001b[0m\u001b[0mencode\u001b[0m\u001b[0;34m(\u001b[0m\u001b[0;34mu\"latin-1\"\u001b[0m\u001b[0;34m)\u001b[0m\u001b[0;34m\u001b[0m\u001b[0m\n\u001b[0m",
      "\u001b[0;31mUnicodeEncodeError\u001b[0m: 'latin-1' codec can't encode character u'\\u0151' in position 1: ordinal not in range(256)"
     ]
    }
   ],
   "source": [
    "unicode_data = u\"Bőrgen Görgon\"\n",
    "bytes_data_utf8 = unicode_data.encode(u\"utf-8\")\n",
    "bytes_data_windows1250 = unicode_data.encode(u\"windows-1250\")\n",
    "\n",
    "print(\"len unicode:\", len(unicode_data))\n",
    "print(\"len utf-8:\", len(bytes_data_utf8))\n",
    "print(\"len windows-1250:\", len(bytes_data_windows1250))\n",
    "print(repr(unicode_data))\n",
    "print(repr(bytes_data_utf8))\n",
    "print(repr(bytes_data_windows1250))\n",
    "\n",
    "# Cannot be encoded using latin-1 encoding\n",
    "bytes_data_latin1 = unicode_data.encode(u\"latin-1\")"
   ]
  },
  {
   "cell_type": "markdown",
   "metadata": {
    "slideshow": {
     "slide_type": "slide"
    }
   },
   "source": [
    "# How do I deal with comparing strings?"
   ]
  },
  {
   "cell_type": "code",
   "execution_count": 216,
   "metadata": {
    "collapsed": false,
    "slideshow": {
     "slide_type": "slide"
    }
   },
   "outputs": [
    {
     "name": "stderr",
     "output_type": "stream",
     "text": [
      "/home/tnance/.virtualenvs/ipython/lib/python2.7/site-packages/ipykernel/__main__.py:4: UnicodeWarning: Unicode unequal comparison failed to convert both arguments to Unicode - interpreting them as being unequal\n"
     ]
    },
    {
     "ename": "UnicodeDecodeError",
     "evalue": "'ascii' codec can't decode byte 0xf5 in position 1: ordinal not in range(128)",
     "output_type": "error",
     "traceback": [
      "\u001b[0;31m---------------------------------------------------------------------------\u001b[0m",
      "\u001b[0;31mUnicodeDecodeError\u001b[0m                        Traceback (most recent call last)",
      "\u001b[0;32m<ipython-input-216-c579c87331a1>\u001b[0m in \u001b[0;36m<module>\u001b[0;34m()\u001b[0m\n\u001b[1;32m      5\u001b[0m \u001b[0;34m\u001b[0m\u001b[0m\n\u001b[1;32m      6\u001b[0m \u001b[0;31m# Both of these will fail with a similar error\u001b[0m\u001b[0;34m\u001b[0m\u001b[0;34m\u001b[0m\u001b[0m\n\u001b[0;32m----> 7\u001b[0;31m \u001b[0mname\u001b[0m \u001b[0;32min\u001b[0m \u001b[0mscraped_page_data\u001b[0m\u001b[0;34m\u001b[0m\u001b[0m\n\u001b[0m\u001b[1;32m      8\u001b[0m \u001b[0;34mu\"B\"\u001b[0m \u001b[0;32min\u001b[0m \u001b[0mname\u001b[0m\u001b[0;34m\u001b[0m\u001b[0m\n",
      "\u001b[0;31mUnicodeDecodeError\u001b[0m: 'ascii' codec can't decode byte 0xf5 in position 1: ordinal not in range(128)"
     ]
    }
   ],
   "source": [
    "scraped_page_data = u\"Bõrgen Görgon was here\"\n",
    "name = b'B\\xf5rgen G\\xf6rgon'\n",
    "\n",
    "scraped_page_data != name\n",
    "\n",
    "# Both of these will fail with a similar error\n",
    "name in scraped_page_data\n",
    "u\"B\" in name"
   ]
  },
  {
   "cell_type": "markdown",
   "metadata": {
    "slideshow": {
     "slide_type": "slide"
    }
   },
   "source": [
    "* Make sure you know the types of the strings you are dealing with\n",
    "* I strongly recommend adding `\"from __future__ import unicode_literals\"` at the top of your python2 files.\n",
    "* Convert all strings to unicode strings to perform the comparison\n",
    "* For the example above:"
   ]
  },
  {
   "cell_type": "code",
   "execution_count": 220,
   "metadata": {
    "collapsed": false,
    "slideshow": {
     "slide_type": "slide"
    }
   },
   "outputs": [
    {
     "name": "stderr",
     "output_type": "stream",
     "text": [
      "/home/tnance/.virtualenvs/ipython/lib/python2.7/site-packages/ipykernel/__main__.py:6: UnicodeWarning: Unicode unequal comparison failed to convert both arguments to Unicode - interpreting them as being unequal\n"
     ]
    },
    {
     "ename": "UnicodeDecodeError",
     "evalue": "'ascii' codec can't decode byte 0xf5 in position 1: ordinal not in range(128)",
     "output_type": "error",
     "traceback": [
      "\u001b[0;31m---------------------------------------------------------------------------\u001b[0m",
      "\u001b[0;31mUnicodeDecodeError\u001b[0m                        Traceback (most recent call last)",
      "\u001b[0;32m<ipython-input-220-6985f1ef6659>\u001b[0m in \u001b[0;36m<module>\u001b[0;34m()\u001b[0m\n\u001b[1;32m      5\u001b[0m \u001b[0;34m\u001b[0m\u001b[0m\n\u001b[1;32m      6\u001b[0m \u001b[0mscraped_page_data\u001b[0m \u001b[0;34m!=\u001b[0m \u001b[0mname\u001b[0m\u001b[0;34m\u001b[0m\u001b[0m\n\u001b[0;32m----> 7\u001b[0;31m \u001b[0mname\u001b[0m \u001b[0;32min\u001b[0m \u001b[0mscraped_page_data\u001b[0m\u001b[0;34m\u001b[0m\u001b[0m\n\u001b[0m\u001b[1;32m      8\u001b[0m \u001b[0;34mu\"B\"\u001b[0m \u001b[0;32min\u001b[0m \u001b[0mname\u001b[0m\u001b[0;34m\u001b[0m\u001b[0m\n",
      "\u001b[0;31mUnicodeDecodeError\u001b[0m: 'ascii' codec can't decode byte 0xf5 in position 1: ordinal not in range(128)"
     ]
    }
   ],
   "source": [
    "scraped_page_data = u\"Bõrgen Görgon was here\"\n",
    "name = b'B\\xf5rgen G\\xf6rgon'\n",
    "\n",
    "# [Group effort here]\n",
    "\n",
    "scraped_page_data != name\n",
    "name in scraped_page_data\n",
    "u\"B\" in name"
   ]
  },
  {
   "cell_type": "markdown",
   "metadata": {
    "slideshow": {
     "slide_type": "slide"
    }
   },
   "source": [
    "# When should I use the encoding:\n",
    "* ascii\n",
    "* latin-1\n",
    "* utf-8\n",
    "* utf-16"
   ]
  },
  {
   "cell_type": "markdown",
   "metadata": {
    "deletable": true,
    "editable": true,
    "slideshow": {
     "slide_type": "slide"
    }
   },
   "source": [
    "# Reading Files"
   ]
  },
  {
   "cell_type": "code",
   "execution_count": 134,
   "metadata": {
    "collapsed": false,
    "deletable": true,
    "editable": true,
    "slideshow": {
     "slide_type": "slide"
    }
   },
   "outputs": [
    {
     "name": "stdout",
     "output_type": "stream",
     "text": [
      "<type 'unicode'>\n",
      "u'\\u2713 Read the File\\n'\n",
      "✓ Read the File\n",
      "\n",
      "<type 'unicode'>\n",
      "u'\\u2713 Write the File\\n'\n",
      "✓ Write the File\n",
      "\n",
      "<type 'unicode'>\n",
      "u'Still to do: weird double s thing: \\xa7\\n'\n",
      "Still to do: weird double s thing: §\n",
      "\n",
      "<type 'unicode'>\n",
      "u'\\n'\n",
      "\n",
      "\n",
      "<type 'unicode'>\n",
      "u'\\xa9 2017 OKCPython\\n'\n",
      "© 2017 OKCPython\n",
      "\n"
     ]
    }
   ],
   "source": [
    "import io\n",
    "with io.open(u\"copyright_input_utf8.txt\") as input_file:\n",
    "    for line in input_file:\n",
    "        print(type(line))\n",
    "        print(repr(line))\n",
    "        print(line)"
   ]
  },
  {
   "cell_type": "code",
   "execution_count": 135,
   "metadata": {
    "collapsed": false,
    "deletable": true,
    "editable": true,
    "slideshow": {
     "slide_type": "slide"
    }
   },
   "outputs": [
    {
     "name": "stdout",
     "output_type": "stream",
     "text": [
      "<type 'str'>\n",
      "'\\xe2\\x9c\\x93 Read the File\\n'\n",
      "✓ Read the File\n",
      "\n",
      "<type 'str'>\n",
      "'\\xe2\\x9c\\x93 Write the File\\n'\n",
      "✓ Write the File\n",
      "\n",
      "<type 'str'>\n",
      "'Still to do: weird double s thing: \\xc2\\xa7\\n'\n",
      "Still to do: weird double s thing: §\n",
      "\n",
      "<type 'str'>\n",
      "'\\n'\n",
      "\n",
      "\n",
      "<type 'str'>\n",
      "'\\xc2\\xa9 2017 OKCPython\\n'\n",
      "© 2017 OKCPython\n",
      "\n"
     ]
    }
   ],
   "source": [
    "import io\n",
    "with io.open(u\"copyright_input_utf8.txt\", u\"rb\") as input_file:\n",
    "    for line in input_file:\n",
    "        print(type(line))\n",
    "        print(repr(line))\n",
    "        print(line)"
   ]
  },
  {
   "cell_type": "code",
   "execution_count": 136,
   "metadata": {
    "collapsed": false,
    "deletable": true,
    "editable": true,
    "slideshow": {
     "slide_type": "slide"
    }
   },
   "outputs": [
    {
     "name": "stdout",
     "output_type": "stream",
     "text": [
      "<type 'str'>\n",
      "'Read the File\\n'\n",
      "Read the File\n",
      "\n",
      "<type 'str'>\n",
      "'Write the File\\n'\n",
      "Write the File\n",
      "\n",
      "<type 'str'>\n",
      "'Still to do: weird double s thing: \\xa7\\n'\n",
      "Still to do: weird double s thing: �\n",
      "\n",
      "<type 'str'>\n",
      "'\\n'\n",
      "\n",
      "\n",
      "<type 'str'>\n",
      "'\\xa9 2017 OKCPython\\n'\n",
      "� 2017 OKCPython\n",
      "\n"
     ]
    }
   ],
   "source": [
    "import io\n",
    "with io.open(u\"copyright_input_windows_1250.txt\", u\"rb\") as input_file:\n",
    "    for line in input_file:\n",
    "        print(type(line))\n",
    "        print(repr(line))\n",
    "        print(line)"
   ]
  },
  {
   "cell_type": "code",
   "execution_count": 137,
   "metadata": {
    "collapsed": false,
    "deletable": true,
    "editable": true,
    "slideshow": {
     "slide_type": "slide"
    }
   },
   "outputs": [
    {
     "ename": "UnicodeDecodeError",
     "evalue": "'utf8' codec can't decode byte 0xa7 in position 64: invalid start byte",
     "output_type": "error",
     "traceback": [
      "\u001b[0;31m---------------------------------------------------------------------------\u001b[0m",
      "\u001b[0;31mUnicodeDecodeError\u001b[0m                        Traceback (most recent call last)",
      "\u001b[0;32m<ipython-input-137-33993e5f63b9>\u001b[0m in \u001b[0;36m<module>\u001b[0;34m()\u001b[0m\n\u001b[1;32m      1\u001b[0m \u001b[0;32mimport\u001b[0m \u001b[0mio\u001b[0m\u001b[0;34m\u001b[0m\u001b[0m\n\u001b[1;32m      2\u001b[0m \u001b[0;32mwith\u001b[0m \u001b[0mio\u001b[0m\u001b[0;34m.\u001b[0m\u001b[0mopen\u001b[0m\u001b[0;34m(\u001b[0m\u001b[0;34mu\"copyright_input_windows_1250.txt\"\u001b[0m\u001b[0;34m,\u001b[0m \u001b[0;34mu\"rt\"\u001b[0m\u001b[0;34m)\u001b[0m \u001b[0;32mas\u001b[0m \u001b[0minput_file\u001b[0m\u001b[0;34m:\u001b[0m\u001b[0;34m\u001b[0m\u001b[0m\n\u001b[0;32m----> 3\u001b[0;31m     \u001b[0;32mfor\u001b[0m \u001b[0mline\u001b[0m \u001b[0;32min\u001b[0m \u001b[0minput_file\u001b[0m\u001b[0;34m:\u001b[0m\u001b[0;34m\u001b[0m\u001b[0m\n\u001b[0m\u001b[1;32m      4\u001b[0m         \u001b[0;32mprint\u001b[0m\u001b[0;34m(\u001b[0m\u001b[0mtype\u001b[0m\u001b[0;34m(\u001b[0m\u001b[0mline\u001b[0m\u001b[0;34m)\u001b[0m\u001b[0;34m)\u001b[0m\u001b[0;34m\u001b[0m\u001b[0m\n\u001b[1;32m      5\u001b[0m         \u001b[0;32mprint\u001b[0m\u001b[0;34m(\u001b[0m\u001b[0mrepr\u001b[0m\u001b[0;34m(\u001b[0m\u001b[0mline\u001b[0m\u001b[0;34m)\u001b[0m\u001b[0;34m)\u001b[0m\u001b[0;34m\u001b[0m\u001b[0m\n",
      "\u001b[0;32m/home/tnance/.virtualenvs/ipython/lib/python2.7/codecs.pyc\u001b[0m in \u001b[0;36mdecode\u001b[0;34m(self, input, final)\u001b[0m\n\u001b[1;32m    312\u001b[0m         \u001b[0;31m# decode input (taking the buffer into account)\u001b[0m\u001b[0;34m\u001b[0m\u001b[0;34m\u001b[0m\u001b[0m\n\u001b[1;32m    313\u001b[0m         \u001b[0mdata\u001b[0m \u001b[0;34m=\u001b[0m \u001b[0mself\u001b[0m\u001b[0;34m.\u001b[0m\u001b[0mbuffer\u001b[0m \u001b[0;34m+\u001b[0m \u001b[0minput\u001b[0m\u001b[0;34m\u001b[0m\u001b[0m\n\u001b[0;32m--> 314\u001b[0;31m         \u001b[0;34m(\u001b[0m\u001b[0mresult\u001b[0m\u001b[0;34m,\u001b[0m \u001b[0mconsumed\u001b[0m\u001b[0;34m)\u001b[0m \u001b[0;34m=\u001b[0m \u001b[0mself\u001b[0m\u001b[0;34m.\u001b[0m\u001b[0m_buffer_decode\u001b[0m\u001b[0;34m(\u001b[0m\u001b[0mdata\u001b[0m\u001b[0;34m,\u001b[0m \u001b[0mself\u001b[0m\u001b[0;34m.\u001b[0m\u001b[0merrors\u001b[0m\u001b[0;34m,\u001b[0m \u001b[0mfinal\u001b[0m\u001b[0;34m)\u001b[0m\u001b[0;34m\u001b[0m\u001b[0m\n\u001b[0m\u001b[1;32m    315\u001b[0m         \u001b[0;31m# keep undecoded input until the next call\u001b[0m\u001b[0;34m\u001b[0m\u001b[0;34m\u001b[0m\u001b[0m\n\u001b[1;32m    316\u001b[0m         \u001b[0mself\u001b[0m\u001b[0;34m.\u001b[0m\u001b[0mbuffer\u001b[0m \u001b[0;34m=\u001b[0m \u001b[0mdata\u001b[0m\u001b[0;34m[\u001b[0m\u001b[0mconsumed\u001b[0m\u001b[0;34m:\u001b[0m\u001b[0;34m]\u001b[0m\u001b[0;34m\u001b[0m\u001b[0m\n",
      "\u001b[0;31mUnicodeDecodeError\u001b[0m: 'utf8' codec can't decode byte 0xa7 in position 64: invalid start byte"
     ]
    }
   ],
   "source": [
    "import io\n",
    "with io.open(u\"copyright_input_windows_1250.txt\", u\"rt\") as input_file:\n",
    "    for line in input_file:\n",
    "        print(type(line))\n",
    "        print(repr(line))\n",
    "        print(line)"
   ]
  },
  {
   "cell_type": "code",
   "execution_count": 138,
   "metadata": {
    "collapsed": false,
    "deletable": true,
    "editable": true,
    "slideshow": {
     "slide_type": "slide"
    }
   },
   "outputs": [
    {
     "name": "stdout",
     "output_type": "stream",
     "text": [
      "<type 'unicode'>\n",
      "u'Read the File\\n'\n",
      "Read the File\n",
      "\n",
      "<type 'unicode'>\n",
      "u'Write the File\\n'\n",
      "Write the File\n",
      "\n",
      "<type 'unicode'>\n",
      "u'Still to do: weird double s thing: \\xa7\\n'\n",
      "Still to do: weird double s thing: §\n",
      "\n",
      "<type 'unicode'>\n",
      "u'\\n'\n",
      "\n",
      "\n",
      "<type 'unicode'>\n",
      "u'\\xa9 2017 OKCPython\\n'\n",
      "© 2017 OKCPython\n",
      "\n"
     ]
    }
   ],
   "source": [
    "# Read the file with the correct encoding, resulting in unicode strings\n",
    "import io\n",
    "filename = u\"copyright_input_windows_1250.txt\"\n",
    "with io.open(filename, u\"rt\", encoding=u\"windows-1250\") as input_file:\n",
    "    for line in input_file:\n",
    "        print(type(line))\n",
    "        print(repr(line))\n",
    "        print(line)"
   ]
  },
  {
   "cell_type": "code",
   "execution_count": 139,
   "metadata": {
    "collapsed": false,
    "deletable": true,
    "editable": true,
    "slideshow": {
     "slide_type": "slide"
    }
   },
   "outputs": [
    {
     "name": "stdout",
     "output_type": "stream",
     "text": [
      "<type 'str'>\n",
      "'Read the File\\n'\n",
      "Read the File\n",
      "\n",
      "<type 'str'>\n",
      "'Write the File\\n'\n",
      "Write the File\n",
      "\n",
      "<type 'str'>\n",
      "'Still to do: weird double s thing: \\xc2\\xa7\\n'\n",
      "Still to do: weird double s thing: §\n",
      "\n",
      "<type 'str'>\n",
      "'\\n'\n",
      "\n",
      "\n",
      "<type 'str'>\n",
      "'\\xc2\\xa9 2017 OKCPython\\n'\n",
      "© 2017 OKCPython\n",
      "\n"
     ]
    }
   ],
   "source": [
    "# Read the file with the correct encoding, resulting\n",
    "# in latin-1 encoded byte strings\n",
    "import io\n",
    "filename = u\"copyright_input_windows_1250.txt\"\n",
    "with io.open(filename, u\"rt\", encoding=u\"windows-1250\") as input_file:\n",
    "    for line in input_file:\n",
    "        line = line.encode(u\"utf-8\")\n",
    "        print(type(line))\n",
    "        print(repr(line))\n",
    "        print(line)"
   ]
  },
  {
   "cell_type": "markdown",
   "metadata": {
    "deletable": true,
    "editable": true,
    "slideshow": {
     "slide_type": "slide"
    }
   },
   "source": [
    "# Writing Files"
   ]
  },
  {
   "cell_type": "code",
   "execution_count": 140,
   "metadata": {
    "collapsed": true,
    "deletable": true,
    "editable": true,
    "slideshow": {
     "slide_type": "slide"
    }
   },
   "outputs": [],
   "source": [
    "unicode_data = u\"© 2017 OKCPython\"\n",
    "bytes_data_utf8 = b\"\\xc2\\xa9 2017 OKCPython\"\n",
    "bytes_data_latin1 = b\"\\xa9 2017 OKCPython\""
   ]
  },
  {
   "cell_type": "code",
   "execution_count": 141,
   "metadata": {
    "collapsed": false,
    "deletable": true,
    "editable": true,
    "slideshow": {
     "slide_type": "slide"
    }
   },
   "outputs": [],
   "source": [
    "# Write to file encoded as UTF-8\n",
    "import io\n",
    "filename = u\"copyright_output_unicode_to_utf8.txt\"\n",
    "with io.open(filename, u\"wt\") as output_file:\n",
    "    output_file.write(unicode_data)"
   ]
  },
  {
   "cell_type": "code",
   "execution_count": 142,
   "metadata": {
    "collapsed": false,
    "deletable": true,
    "editable": true,
    "slideshow": {
     "slide_type": "slide"
    }
   },
   "outputs": [
    {
     "ename": "TypeError",
     "evalue": "write() argument 1 must be unicode, not str",
     "output_type": "error",
     "traceback": [
      "\u001b[0;31m---------------------------------------------------------------------------\u001b[0m",
      "\u001b[0;31mTypeError\u001b[0m                                 Traceback (most recent call last)",
      "\u001b[0;32m<ipython-input-142-76d5343fe385>\u001b[0m in \u001b[0;36m<module>\u001b[0;34m()\u001b[0m\n\u001b[1;32m      1\u001b[0m \u001b[0;31m# Opening in 'text' mode expects unicode, not bytes!\u001b[0m\u001b[0;34m\u001b[0m\u001b[0;34m\u001b[0m\u001b[0m\n\u001b[1;32m      2\u001b[0m \u001b[0;32mwith\u001b[0m \u001b[0mio\u001b[0m\u001b[0;34m.\u001b[0m\u001b[0mopen\u001b[0m\u001b[0;34m(\u001b[0m\u001b[0;34mu\"copyright_output_utf8_bytes_to_utf8.txt\"\u001b[0m\u001b[0;34m,\u001b[0m \u001b[0;34mu\"wt\"\u001b[0m\u001b[0;34m)\u001b[0m \u001b[0;32mas\u001b[0m \u001b[0moutput_file\u001b[0m\u001b[0;34m:\u001b[0m\u001b[0;34m\u001b[0m\u001b[0m\n\u001b[0;32m----> 3\u001b[0;31m     \u001b[0moutput_file\u001b[0m\u001b[0;34m.\u001b[0m\u001b[0mwrite\u001b[0m\u001b[0;34m(\u001b[0m\u001b[0mbytes_data_utf8\u001b[0m\u001b[0;34m)\u001b[0m\u001b[0;34m\u001b[0m\u001b[0m\n\u001b[0m",
      "\u001b[0;31mTypeError\u001b[0m: write() argument 1 must be unicode, not str"
     ]
    }
   ],
   "source": [
    "# Opening in 'text' mode expects unicode, not bytes!\n",
    "filename = u\"copyright_output_utf8_bytes_to_utf8.txt\"\n",
    "with io.open(filename, u\"wt\") as output_file:\n",
    "    output_file.write(bytes_data_utf8)"
   ]
  },
  {
   "cell_type": "code",
   "execution_count": 143,
   "metadata": {
    "collapsed": false,
    "deletable": true,
    "editable": true,
    "slideshow": {
     "slide_type": "fragment"
    }
   },
   "outputs": [],
   "source": [
    "# Write utf8-encoded byte string to file encoded as UTF-8\n",
    "import io\n",
    "filename = u\"copyright_output_utf8_bytes_to_utf8.txt\"\n",
    "with io.open(filename, u\"wt\") as output_file:\n",
    "    output_file.write(bytes_data_utf8.decode(u\"utf-8\"))"
   ]
  },
  {
   "cell_type": "code",
   "execution_count": 144,
   "metadata": {
    "collapsed": false,
    "deletable": true,
    "editable": true,
    "slideshow": {
     "slide_type": "fragment"
    }
   },
   "outputs": [],
   "source": [
    "# Write latin1-encoded byte string to file encoded as UTF-8\n",
    "import io\n",
    "with io.open(u\"copyright_output_latin1_bytes_to_utf8.txt\", u\"wt\") as output_file:\n",
    "    output_file.write(bytes_data_latin1.decode(\"latin-1\"))"
   ]
  },
  {
   "cell_type": "markdown",
   "metadata": {
    "deletable": true,
    "editable": true,
    "slideshow": {
     "slide_type": "slide"
    }
   },
   "source": [
    "### Or, we can open the file and write to it in binary (byte) mode"
   ]
  },
  {
   "cell_type": "code",
   "execution_count": 145,
   "metadata": {
    "collapsed": false,
    "deletable": true,
    "editable": true,
    "slideshow": {
     "slide_type": "slide"
    }
   },
   "outputs": [],
   "source": [
    "# To write a unicode string to a byte stream, we have\n",
    "# to encode it with a particular encoding\n",
    "import io\n",
    "filename = u\"copyright_output_unicode_to_binary.txt\"\n",
    "with io.open(filename, u\"wb\") as output_file:\n",
    "    output_file.write(unicode_data.encode(u\"utf-8\"))"
   ]
  },
  {
   "cell_type": "code",
   "execution_count": 146,
   "metadata": {
    "collapsed": true,
    "deletable": true,
    "editable": true,
    "slideshow": {
     "slide_type": "fragment"
    }
   },
   "outputs": [],
   "source": [
    "# To write a utf8-encoded byte string to a byte stream, we\n",
    "# just have to write it out\n",
    "import io\n",
    "filename = u\"copyright_output_utf8_bytes_to_binary.txt\"\n",
    "with io.open(filename, u\"wb\") as output_file:\n",
    "    output_file.write(bytes_data_utf8)"
   ]
  },
  {
   "cell_type": "markdown",
   "metadata": {
    "deletable": true,
    "editable": true,
    "slideshow": {
     "slide_type": "slide"
    }
   },
   "source": [
    "Here is where I find it is easy to get myself in trouble. We wrote a file in binary mode, using a byte string. Often enough, not enough thought went into what the encoding was of the file written.\n",
    "\n",
    "Was it plain `ascii`, was it `latin-1` (aka `iso-8859-1`, aka `windows-1252` in the HTML5 spec)?\n",
    "\n",
    "Was it `utf8`? `utf16`? `utf32`?\n",
    "\n",
    "We have been somewhat spoiled in the US by being able to frequently ignore the encoding of text files, since there is so much overlap between `ascii`, `latin-1`, and `utf8`.\n"
   ]
  },
  {
   "cell_type": "code",
   "execution_count": 222,
   "metadata": {
    "collapsed": true,
    "deletable": true,
    "editable": true,
    "slideshow": {
     "slide_type": "slide"
    }
   },
   "outputs": [],
   "source": [
    "# To write a latin1-encoded byte string to a byte stream,\n",
    "# I convert it to unicode and then encode it to the desired output encoding\n",
    "import io\n",
    "filename = u\"copyright_output_latin1_bytes_to_binary.txt\"\n",
    "with io.open(filename, u\"wb\") as output_file:\n",
    "    output_file.write(bytes_data_latin1.decode(u\"latin-1\").encode(u\"utf-8\"))"
   ]
  },
  {
   "cell_type": "markdown",
   "metadata": {
    "slideshow": {
     "slide_type": "slide"
    }
   },
   "source": [
    "# Questions?"
   ]
  }
 ],
 "metadata": {
  "celltoolbar": "Slideshow",
  "kernelspec": {
   "display_name": "Python 2",
   "language": "python",
   "name": "python2"
  },
  "language_info": {
   "codemirror_mode": {
    "name": "ipython",
    "version": 2
   },
   "file_extension": ".py",
   "mimetype": "text/x-python",
   "name": "python",
   "nbconvert_exporter": "python",
   "pygments_lexer": "ipython2",
   "version": "2.7.12"
  }
 },
 "nbformat": 4,
 "nbformat_minor": 2
}
